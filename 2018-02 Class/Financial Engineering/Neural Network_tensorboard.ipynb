{
 "cells": [
  {
   "cell_type": "code",
   "execution_count": 3,
   "metadata": {},
   "outputs": [],
   "source": [
    "import numpy as np\n",
    "import tensorflow as tf\n",
    "import matplotlib as mpl\n",
    "import matplotlib.pyplot as plt\n"
   ]
  },
  {
   "cell_type": "markdown",
   "metadata": {},
   "source": [
    "## Example 1"
   ]
  },
  {
   "cell_type": "code",
   "execution_count": 4,
   "metadata": {},
   "outputs": [],
   "source": [
    "X = np.array( [[0,0], [0,1], [1,0], [1,1]],dtype=np.float32)\n",
    "Y = np.array([[0], [1], [1], [1]],dtype=np.float32)\n",
    "\n",
    "x= tf.placeholder(tf.float32, shape=[None, 2],name=\"x\")\n",
    "t= tf.placeholder(tf.float32, shape=[None, 1],name=\"t\")\n"
   ]
  },
  {
   "cell_type": "code",
   "execution_count": 5,
   "metadata": {},
   "outputs": [],
   "source": [
    "with tf.name_scope(\"layer\"):\n",
    "    w = tf.Variable(tf.zeros([2,1]))\n",
    "    b = tf.Variable(tf.zeros([1]))\n",
    "    y= tf.sigmoid( tf.matmul(x, w) + b )\n",
    "\n",
    "    w_hist =tf.summary.histogram(\"weight\",w)\n",
    "    b_hist =tf.summary.histogram(\"bias\",b)\n",
    "    y_hist =tf.summary.histogram(\"y\",y)"
   ]
  },
  {
   "cell_type": "code",
   "execution_count": 6,
   "metadata": {},
   "outputs": [],
   "source": [
    "with tf.name_scope(\"cross_entropy\"):\n",
    "    cross_entropy = - tf.reduce_sum( t*tf.log(y) + (1-t)*tf.log(1-y) )\n",
    "    entropy = tf.summary.scalar(\"cross_entropy\",cross_entropy)"
   ]
  },
  {
   "cell_type": "code",
   "execution_count": 7,
   "metadata": {},
   "outputs": [],
   "source": [
    "with tf.name_scope(\"train_step\"):\n",
    "    train_step = tf.train.GradientDescentOptimizer(0.1).minimize(cross_entropy)"
   ]
  },
  {
   "cell_type": "code",
   "execution_count": 8,
   "metadata": {},
   "outputs": [],
   "source": [
    "with tf.name_scope(\"correct_prediction\"):\n",
    "    correct_prediction = tf.equal(tf.to_float(tf.greater(y, 0.5)), t)"
   ]
  },
  {
   "cell_type": "code",
   "execution_count": 9,
   "metadata": {},
   "outputs": [
    {
     "name": "stdout",
     "output_type": "stream",
     "text": [
      "0 2.7725887\n",
      "0 [[0.]\n",
      " [0.]]\n",
      "0 [[0.5]\n",
      " [0.5]\n",
      " [0.5]\n",
      " [0.5]]\n",
      "1000 2.7725887\n",
      "1000 [[0.]\n",
      " [0.]]\n",
      "1000 [[0.5]\n",
      " [0.5]\n",
      " [0.5]\n",
      " [0.5]]\n",
      "2000 2.7725887\n",
      "2000 [[0.]\n",
      " [0.]]\n",
      "2000 [[0.5]\n",
      " [0.5]\n",
      " [0.5]\n",
      " [0.5]]\n",
      "3000 2.7725887\n",
      "3000 [[0.]\n",
      " [0.]]\n",
      "3000 [[0.5]\n",
      " [0.5]\n",
      " [0.5]\n",
      " [0.5]]\n",
      "4000 2.7725887\n",
      "4000 [[0.]\n",
      " [0.]]\n",
      "4000 [[0.5]\n",
      " [0.5]\n",
      " [0.5]\n",
      " [0.5]]\n",
      "5000 2.7725887\n",
      "5000 [[0.]\n",
      " [0.]]\n",
      "5000 [[0.5]\n",
      " [0.5]\n",
      " [0.5]\n",
      " [0.5]]\n",
      "6000 2.7725887\n",
      "6000 [[0.]\n",
      " [0.]]\n",
      "6000 [[0.5]\n",
      " [0.5]\n",
      " [0.5]\n",
      " [0.5]]\n",
      "7000 2.7725887\n",
      "7000 [[0.]\n",
      " [0.]]\n",
      "7000 [[0.5]\n",
      " [0.5]\n",
      " [0.5]\n",
      " [0.5]]\n",
      "8000 2.7725887\n",
      "8000 [[0.]\n",
      " [0.]]\n",
      "8000 [[0.5]\n",
      " [0.5]\n",
      " [0.5]\n",
      " [0.5]]\n",
      "9000 2.7725887\n",
      "9000 [[0.]\n",
      " [0.]]\n",
      "9000 [[0.5]\n",
      " [0.5]\n",
      " [0.5]\n",
      " [0.5]]\n"
     ]
    }
   ],
   "source": [
    "with tf.Session() as sess:\n",
    "    merged_summary = tf.summary.merge_all()\n",
    "    writer = tf.summary.FileWriter(\"./logs\")\n",
    "    writer.add_graph(sess.graph)\n",
    "    \n",
    "    init=tf.global_variables_initializer()\n",
    "    sess.run(init)\n",
    "    \n",
    "    for step in range(10000):\n",
    "        if step % 1000 ==0:\n",
    "            print(step,sess.run(cross_entropy, feed_dict={x: X, t: Y}))\n",
    "            print(step,sess.run(w))\n",
    "            print(step,sess.run(y, feed_dict={x: X}))"
   ]
  },
  {
   "cell_type": "markdown",
   "metadata": {},
   "source": [
    "## Example 2"
   ]
  },
  {
   "cell_type": "code",
   "execution_count": 69,
   "metadata": {},
   "outputs": [],
   "source": [
    "from sklearn.utils import shuffle\n",
    "M=2 #dimension\n",
    "K=3 # of class\n",
    "n=100 # number of data in each class\n",
    "N = n*K # number of total data"
   ]
  },
  {
   "cell_type": "code",
   "execution_count": 70,
   "metadata": {},
   "outputs": [],
   "source": [
    "X1 = np.random.randn(n, M) + np.array([0, 10]) \n",
    "X2 = np.random.randn(n, M) + np.array([5, 5]) \n",
    "X3 = np.random.randn(n, M) + np.array([10, 0]) \n",
    "\n",
    "Y1 = np.array([[1, 0, 0] for i in range(n)])\n",
    "Y2 = np.array([[0, 1, 0] for i in range(n)])\n",
    "Y3 = np.array([[0, 0, 1] for i in range(n)])\n",
    "\n",
    "X = np.concatenate((X1, X2, X3), axis=0)\n",
    "Y= np.concatenate((Y1, Y2, Y3), axis=0)\n",
    "\n",
    "\n",
    "x=tf.placeholder(tf.float32, shape=[None, M])\n",
    "t=tf.placeholder(tf.float32, shape=[None, K])"
   ]
  },
  {
   "cell_type": "code",
   "execution_count": 71,
   "metadata": {},
   "outputs": [],
   "source": [
    "with tf.name_scope('layer'):\n",
    "    W = tf.Variable(tf.zeros([M, K]))\n",
    "    b = tf.Variable(tf.zeros([K]))\n",
    "    y=tf.nn.softmax(tf.matmul(x,W) + b)\n"
   ]
  },
  {
   "cell_type": "code",
   "execution_count": 72,
   "metadata": {},
   "outputs": [],
   "source": [
    "with tf.name_scope(\"cross_entropy\"):\n",
    "    cross_entropy = tf.reduce_mean(-tf.reduce_sum(t*tf.log(y), reduction_indices=[1])) ## reduction_index = axis\n",
    "    entropy = tf.summary.scalar(\"cross_entropy\",cross_entropy)"
   ]
  },
  {
   "cell_type": "code",
   "execution_count": 73,
   "metadata": {},
   "outputs": [],
   "source": [
    "with tf.name_scope(\"train_step\"):\n",
    "    train_step = tf.train.GradientDescentOptimizer(0.1).minimize(cross_entropy)\n"
   ]
  },
  {
   "cell_type": "code",
   "execution_count": 74,
   "metadata": {},
   "outputs": [],
   "source": [
    "with tf.name_scope(\"correct_prediction\"):\n",
    "    correct_prediction = tf.equal(tf.argmax(y, 1), tf.argmax(t, 1))"
   ]
  },
  {
   "cell_type": "code",
   "execution_count": 75,
   "metadata": {},
   "outputs": [],
   "source": [
    "batch_size=50\n",
    "n_batches = N //batch_size"
   ]
  },
  {
   "cell_type": "code",
   "execution_count": 79,
   "metadata": {},
   "outputs": [
    {
     "ename": "InvalidArgumentError",
     "evalue": "You must feed a value for placeholder tensor 't_1' with dtype float and shape [?,1]\n\t [[Node: t_1 = Placeholder[dtype=DT_FLOAT, shape=[?,1], _device=\"/job:localhost/replica:0/task:0/device:CPU:0\"]()]]\n\nCaused by op 't_1', defined at:\n  File \"C:\\Users\\user\\Anaconda\\lib\\runpy.py\", line 193, in _run_module_as_main\n    \"__main__\", mod_spec)\n  File \"C:\\Users\\user\\Anaconda\\lib\\runpy.py\", line 85, in _run_code\n    exec(code, run_globals)\n  File \"C:\\Users\\user\\Anaconda\\lib\\site-packages\\ipykernel_launcher.py\", line 16, in <module>\n    app.launch_new_instance()\n  File \"C:\\Users\\user\\Anaconda\\lib\\site-packages\\traitlets\\config\\application.py\", line 658, in launch_instance\n    app.start()\n  File \"C:\\Users\\user\\Anaconda\\lib\\site-packages\\ipykernel\\kernelapp.py\", line 486, in start\n    self.io_loop.start()\n  File \"C:\\Users\\user\\Anaconda\\lib\\site-packages\\tornado\\platform\\asyncio.py\", line 127, in start\n    self.asyncio_loop.run_forever()\n  File \"C:\\Users\\user\\Anaconda\\lib\\asyncio\\base_events.py\", line 422, in run_forever\n    self._run_once()\n  File \"C:\\Users\\user\\Anaconda\\lib\\asyncio\\base_events.py\", line 1432, in _run_once\n    handle._run()\n  File \"C:\\Users\\user\\Anaconda\\lib\\asyncio\\events.py\", line 145, in _run\n    self._callback(*self._args)\n  File \"C:\\Users\\user\\Anaconda\\lib\\site-packages\\tornado\\ioloop.py\", line 759, in _run_callback\n    ret = callback()\n  File \"C:\\Users\\user\\Anaconda\\lib\\site-packages\\tornado\\stack_context.py\", line 276, in null_wrapper\n    return fn(*args, **kwargs)\n  File \"C:\\Users\\user\\Anaconda\\lib\\site-packages\\zmq\\eventloop\\zmqstream.py\", line 536, in <lambda>\n    self.io_loop.add_callback(lambda : self._handle_events(self.socket, 0))\n  File \"C:\\Users\\user\\Anaconda\\lib\\site-packages\\zmq\\eventloop\\zmqstream.py\", line 450, in _handle_events\n    self._handle_recv()\n  File \"C:\\Users\\user\\Anaconda\\lib\\site-packages\\zmq\\eventloop\\zmqstream.py\", line 480, in _handle_recv\n    self._run_callback(callback, msg)\n  File \"C:\\Users\\user\\Anaconda\\lib\\site-packages\\zmq\\eventloop\\zmqstream.py\", line 432, in _run_callback\n    callback(*args, **kwargs)\n  File \"C:\\Users\\user\\Anaconda\\lib\\site-packages\\tornado\\stack_context.py\", line 276, in null_wrapper\n    return fn(*args, **kwargs)\n  File \"C:\\Users\\user\\Anaconda\\lib\\site-packages\\ipykernel\\kernelbase.py\", line 283, in dispatcher\n    return self.dispatch_shell(stream, msg)\n  File \"C:\\Users\\user\\Anaconda\\lib\\site-packages\\ipykernel\\kernelbase.py\", line 233, in dispatch_shell\n    handler(stream, idents, msg)\n  File \"C:\\Users\\user\\Anaconda\\lib\\site-packages\\ipykernel\\kernelbase.py\", line 399, in execute_request\n    user_expressions, allow_stdin)\n  File \"C:\\Users\\user\\Anaconda\\lib\\site-packages\\ipykernel\\ipkernel.py\", line 208, in do_execute\n    res = shell.run_cell(code, store_history=store_history, silent=silent)\n  File \"C:\\Users\\user\\Anaconda\\lib\\site-packages\\ipykernel\\zmqshell.py\", line 537, in run_cell\n    return super(ZMQInteractiveShell, self).run_cell(*args, **kwargs)\n  File \"C:\\Users\\user\\Anaconda\\lib\\site-packages\\IPython\\core\\interactiveshell.py\", line 2662, in run_cell\n    raw_cell, store_history, silent, shell_futures)\n  File \"C:\\Users\\user\\Anaconda\\lib\\site-packages\\IPython\\core\\interactiveshell.py\", line 2785, in _run_cell\n    interactivity=interactivity, compiler=compiler, result=result)\n  File \"C:\\Users\\user\\Anaconda\\lib\\site-packages\\IPython\\core\\interactiveshell.py\", line 2903, in run_ast_nodes\n    if self.run_code(code, result):\n  File \"C:\\Users\\user\\Anaconda\\lib\\site-packages\\IPython\\core\\interactiveshell.py\", line 2963, in run_code\n    exec(code_obj, self.user_global_ns, self.user_ns)\n  File \"<ipython-input-4-bbea9003cc0f>\", line 5, in <module>\n    t= tf.placeholder(tf.float32, shape=[None, 1],name=\"t\")\n  File \"C:\\Users\\user\\Anaconda\\lib\\site-packages\\tensorflow\\python\\ops\\array_ops.py\", line 1734, in placeholder\n    return gen_array_ops.placeholder(dtype=dtype, shape=shape, name=name)\n  File \"C:\\Users\\user\\Anaconda\\lib\\site-packages\\tensorflow\\python\\ops\\gen_array_ops.py\", line 4923, in placeholder\n    \"Placeholder\", dtype=dtype, shape=shape, name=name)\n  File \"C:\\Users\\user\\Anaconda\\lib\\site-packages\\tensorflow\\python\\framework\\op_def_library.py\", line 787, in _apply_op_helper\n    op_def=op_def)\n  File \"C:\\Users\\user\\Anaconda\\lib\\site-packages\\tensorflow\\python\\framework\\ops.py\", line 3414, in create_op\n    op_def=op_def)\n  File \"C:\\Users\\user\\Anaconda\\lib\\site-packages\\tensorflow\\python\\framework\\ops.py\", line 1740, in __init__\n    self._traceback = self._graph._extract_stack()  # pylint: disable=protected-access\n\nInvalidArgumentError (see above for traceback): You must feed a value for placeholder tensor 't_1' with dtype float and shape [?,1]\n\t [[Node: t_1 = Placeholder[dtype=DT_FLOAT, shape=[?,1], _device=\"/job:localhost/replica:0/task:0/device:CPU:0\"]()]]\n",
     "output_type": "error",
     "traceback": [
      "\u001b[1;31m---------------------------------------------------------------------------\u001b[0m",
      "\u001b[1;31mInvalidArgumentError\u001b[0m                      Traceback (most recent call last)",
      "\u001b[1;32m~\\Anaconda\\lib\\site-packages\\tensorflow\\python\\client\\session.py\u001b[0m in \u001b[0;36m_do_call\u001b[1;34m(self, fn, *args)\u001b[0m\n\u001b[0;32m   1321\u001b[0m     \u001b[1;32mtry\u001b[0m\u001b[1;33m:\u001b[0m\u001b[1;33m\u001b[0m\u001b[0m\n\u001b[1;32m-> 1322\u001b[1;33m       \u001b[1;32mreturn\u001b[0m \u001b[0mfn\u001b[0m\u001b[1;33m(\u001b[0m\u001b[1;33m*\u001b[0m\u001b[0margs\u001b[0m\u001b[1;33m)\u001b[0m\u001b[1;33m\u001b[0m\u001b[0m\n\u001b[0m\u001b[0;32m   1323\u001b[0m     \u001b[1;32mexcept\u001b[0m \u001b[0merrors\u001b[0m\u001b[1;33m.\u001b[0m\u001b[0mOpError\u001b[0m \u001b[1;32mas\u001b[0m \u001b[0me\u001b[0m\u001b[1;33m:\u001b[0m\u001b[1;33m\u001b[0m\u001b[0m\n",
      "\u001b[1;32m~\\Anaconda\\lib\\site-packages\\tensorflow\\python\\client\\session.py\u001b[0m in \u001b[0;36m_run_fn\u001b[1;34m(feed_dict, fetch_list, target_list, options, run_metadata)\u001b[0m\n\u001b[0;32m   1306\u001b[0m       return self._call_tf_sessionrun(\n\u001b[1;32m-> 1307\u001b[1;33m           options, feed_dict, fetch_list, target_list, run_metadata)\n\u001b[0m\u001b[0;32m   1308\u001b[0m \u001b[1;33m\u001b[0m\u001b[0m\n",
      "\u001b[1;32m~\\Anaconda\\lib\\site-packages\\tensorflow\\python\\client\\session.py\u001b[0m in \u001b[0;36m_call_tf_sessionrun\u001b[1;34m(self, options, feed_dict, fetch_list, target_list, run_metadata)\u001b[0m\n\u001b[0;32m   1408\u001b[0m           \u001b[0mself\u001b[0m\u001b[1;33m.\u001b[0m\u001b[0m_session\u001b[0m\u001b[1;33m,\u001b[0m \u001b[0moptions\u001b[0m\u001b[1;33m,\u001b[0m \u001b[0mfeed_dict\u001b[0m\u001b[1;33m,\u001b[0m \u001b[0mfetch_list\u001b[0m\u001b[1;33m,\u001b[0m \u001b[0mtarget_list\u001b[0m\u001b[1;33m,\u001b[0m\u001b[1;33m\u001b[0m\u001b[0m\n\u001b[1;32m-> 1409\u001b[1;33m           run_metadata)\n\u001b[0m\u001b[0;32m   1410\u001b[0m     \u001b[1;32melse\u001b[0m\u001b[1;33m:\u001b[0m\u001b[1;33m\u001b[0m\u001b[0m\n",
      "\u001b[1;31mInvalidArgumentError\u001b[0m: You must feed a value for placeholder tensor 't_1' with dtype float and shape [?,1]\n\t [[Node: t_1 = Placeholder[dtype=DT_FLOAT, shape=[?,1], _device=\"/job:localhost/replica:0/task:0/device:CPU:0\"]()]]",
      "\nDuring handling of the above exception, another exception occurred:\n",
      "\u001b[1;31mInvalidArgumentError\u001b[0m                      Traceback (most recent call last)",
      "\u001b[1;32m<ipython-input-79-3a1d150c81a4>\u001b[0m in \u001b[0;36m<module>\u001b[1;34m()\u001b[0m\n\u001b[0;32m     15\u001b[0m \u001b[1;33m\u001b[0m\u001b[0m\n\u001b[0;32m     16\u001b[0m             \u001b[1;32mif\u001b[0m \u001b[0mstep\u001b[0m \u001b[1;33m%\u001b[0m \u001b[1;36m1000\u001b[0m \u001b[1;33m==\u001b[0m \u001b[1;36m0\u001b[0m\u001b[1;33m:\u001b[0m\u001b[1;33m\u001b[0m\u001b[0m\n\u001b[1;32m---> 17\u001b[1;33m                 \u001b[0msummary\u001b[0m\u001b[1;33m,\u001b[0m \u001b[0m_\u001b[0m\u001b[1;33m=\u001b[0m \u001b[0msess\u001b[0m\u001b[1;33m.\u001b[0m\u001b[0mrun\u001b[0m\u001b[1;33m(\u001b[0m\u001b[1;33m[\u001b[0m\u001b[0mmerged_summary\u001b[0m\u001b[1;33m,\u001b[0m\u001b[0mtrain_step\u001b[0m\u001b[1;33m]\u001b[0m\u001b[1;33m,\u001b[0m\u001b[0mfeed_dict\u001b[0m\u001b[1;33m=\u001b[0m\u001b[1;33m{\u001b[0m\u001b[0mx\u001b[0m\u001b[1;33m:\u001b[0m \u001b[0mX_\u001b[0m\u001b[1;33m[\u001b[0m\u001b[0mstart\u001b[0m\u001b[1;33m:\u001b[0m\u001b[0mend\u001b[0m\u001b[1;33m]\u001b[0m\u001b[1;33m,\u001b[0m\u001b[0mt\u001b[0m\u001b[1;33m:\u001b[0m \u001b[0mY_\u001b[0m\u001b[1;33m[\u001b[0m\u001b[0mstart\u001b[0m\u001b[1;33m:\u001b[0m\u001b[0mend\u001b[0m\u001b[1;33m]\u001b[0m\u001b[1;33m}\u001b[0m\u001b[1;33m)\u001b[0m\u001b[1;33m\u001b[0m\u001b[0m\n\u001b[0m\u001b[0;32m     18\u001b[0m                 \u001b[0mwriter\u001b[0m\u001b[1;33m.\u001b[0m\u001b[0madd_summary\u001b[0m\u001b[1;33m(\u001b[0m\u001b[0msummary\u001b[0m\u001b[1;33m,\u001b[0m\u001b[0mstep\u001b[0m\u001b[1;33m)\u001b[0m\u001b[1;33m\u001b[0m\u001b[0m\n\u001b[0;32m     19\u001b[0m \u001b[1;33m\u001b[0m\u001b[0m\n",
      "\u001b[1;32m~\\Anaconda\\lib\\site-packages\\tensorflow\\python\\client\\session.py\u001b[0m in \u001b[0;36mrun\u001b[1;34m(self, fetches, feed_dict, options, run_metadata)\u001b[0m\n\u001b[0;32m    898\u001b[0m     \u001b[1;32mtry\u001b[0m\u001b[1;33m:\u001b[0m\u001b[1;33m\u001b[0m\u001b[0m\n\u001b[0;32m    899\u001b[0m       result = self._run(None, fetches, feed_dict, options_ptr,\n\u001b[1;32m--> 900\u001b[1;33m                          run_metadata_ptr)\n\u001b[0m\u001b[0;32m    901\u001b[0m       \u001b[1;32mif\u001b[0m \u001b[0mrun_metadata\u001b[0m\u001b[1;33m:\u001b[0m\u001b[1;33m\u001b[0m\u001b[0m\n\u001b[0;32m    902\u001b[0m         \u001b[0mproto_data\u001b[0m \u001b[1;33m=\u001b[0m \u001b[0mtf_session\u001b[0m\u001b[1;33m.\u001b[0m\u001b[0mTF_GetBuffer\u001b[0m\u001b[1;33m(\u001b[0m\u001b[0mrun_metadata_ptr\u001b[0m\u001b[1;33m)\u001b[0m\u001b[1;33m\u001b[0m\u001b[0m\n",
      "\u001b[1;32m~\\Anaconda\\lib\\site-packages\\tensorflow\\python\\client\\session.py\u001b[0m in \u001b[0;36m_run\u001b[1;34m(self, handle, fetches, feed_dict, options, run_metadata)\u001b[0m\n\u001b[0;32m   1133\u001b[0m     \u001b[1;32mif\u001b[0m \u001b[0mfinal_fetches\u001b[0m \u001b[1;32mor\u001b[0m \u001b[0mfinal_targets\u001b[0m \u001b[1;32mor\u001b[0m \u001b[1;33m(\u001b[0m\u001b[0mhandle\u001b[0m \u001b[1;32mand\u001b[0m \u001b[0mfeed_dict_tensor\u001b[0m\u001b[1;33m)\u001b[0m\u001b[1;33m:\u001b[0m\u001b[1;33m\u001b[0m\u001b[0m\n\u001b[0;32m   1134\u001b[0m       results = self._do_run(handle, final_targets, final_fetches,\n\u001b[1;32m-> 1135\u001b[1;33m                              feed_dict_tensor, options, run_metadata)\n\u001b[0m\u001b[0;32m   1136\u001b[0m     \u001b[1;32melse\u001b[0m\u001b[1;33m:\u001b[0m\u001b[1;33m\u001b[0m\u001b[0m\n\u001b[0;32m   1137\u001b[0m       \u001b[0mresults\u001b[0m \u001b[1;33m=\u001b[0m \u001b[1;33m[\u001b[0m\u001b[1;33m]\u001b[0m\u001b[1;33m\u001b[0m\u001b[0m\n",
      "\u001b[1;32m~\\Anaconda\\lib\\site-packages\\tensorflow\\python\\client\\session.py\u001b[0m in \u001b[0;36m_do_run\u001b[1;34m(self, handle, target_list, fetch_list, feed_dict, options, run_metadata)\u001b[0m\n\u001b[0;32m   1314\u001b[0m     \u001b[1;32mif\u001b[0m \u001b[0mhandle\u001b[0m \u001b[1;32mis\u001b[0m \u001b[1;32mNone\u001b[0m\u001b[1;33m:\u001b[0m\u001b[1;33m\u001b[0m\u001b[0m\n\u001b[0;32m   1315\u001b[0m       return self._do_call(_run_fn, feeds, fetches, targets, options,\n\u001b[1;32m-> 1316\u001b[1;33m                            run_metadata)\n\u001b[0m\u001b[0;32m   1317\u001b[0m     \u001b[1;32melse\u001b[0m\u001b[1;33m:\u001b[0m\u001b[1;33m\u001b[0m\u001b[0m\n\u001b[0;32m   1318\u001b[0m       \u001b[1;32mreturn\u001b[0m \u001b[0mself\u001b[0m\u001b[1;33m.\u001b[0m\u001b[0m_do_call\u001b[0m\u001b[1;33m(\u001b[0m\u001b[0m_prun_fn\u001b[0m\u001b[1;33m,\u001b[0m \u001b[0mhandle\u001b[0m\u001b[1;33m,\u001b[0m \u001b[0mfeeds\u001b[0m\u001b[1;33m,\u001b[0m \u001b[0mfetches\u001b[0m\u001b[1;33m)\u001b[0m\u001b[1;33m\u001b[0m\u001b[0m\n",
      "\u001b[1;32m~\\Anaconda\\lib\\site-packages\\tensorflow\\python\\client\\session.py\u001b[0m in \u001b[0;36m_do_call\u001b[1;34m(self, fn, *args)\u001b[0m\n\u001b[0;32m   1333\u001b[0m         \u001b[1;32mexcept\u001b[0m \u001b[0mKeyError\u001b[0m\u001b[1;33m:\u001b[0m\u001b[1;33m\u001b[0m\u001b[0m\n\u001b[0;32m   1334\u001b[0m           \u001b[1;32mpass\u001b[0m\u001b[1;33m\u001b[0m\u001b[0m\n\u001b[1;32m-> 1335\u001b[1;33m       \u001b[1;32mraise\u001b[0m \u001b[0mtype\u001b[0m\u001b[1;33m(\u001b[0m\u001b[0me\u001b[0m\u001b[1;33m)\u001b[0m\u001b[1;33m(\u001b[0m\u001b[0mnode_def\u001b[0m\u001b[1;33m,\u001b[0m \u001b[0mop\u001b[0m\u001b[1;33m,\u001b[0m \u001b[0mmessage\u001b[0m\u001b[1;33m)\u001b[0m\u001b[1;33m\u001b[0m\u001b[0m\n\u001b[0m\u001b[0;32m   1336\u001b[0m \u001b[1;33m\u001b[0m\u001b[0m\n\u001b[0;32m   1337\u001b[0m   \u001b[1;32mdef\u001b[0m \u001b[0m_extend_graph\u001b[0m\u001b[1;33m(\u001b[0m\u001b[0mself\u001b[0m\u001b[1;33m)\u001b[0m\u001b[1;33m:\u001b[0m\u001b[1;33m\u001b[0m\u001b[0m\n",
      "\u001b[1;31mInvalidArgumentError\u001b[0m: You must feed a value for placeholder tensor 't_1' with dtype float and shape [?,1]\n\t [[Node: t_1 = Placeholder[dtype=DT_FLOAT, shape=[?,1], _device=\"/job:localhost/replica:0/task:0/device:CPU:0\"]()]]\n\nCaused by op 't_1', defined at:\n  File \"C:\\Users\\user\\Anaconda\\lib\\runpy.py\", line 193, in _run_module_as_main\n    \"__main__\", mod_spec)\n  File \"C:\\Users\\user\\Anaconda\\lib\\runpy.py\", line 85, in _run_code\n    exec(code, run_globals)\n  File \"C:\\Users\\user\\Anaconda\\lib\\site-packages\\ipykernel_launcher.py\", line 16, in <module>\n    app.launch_new_instance()\n  File \"C:\\Users\\user\\Anaconda\\lib\\site-packages\\traitlets\\config\\application.py\", line 658, in launch_instance\n    app.start()\n  File \"C:\\Users\\user\\Anaconda\\lib\\site-packages\\ipykernel\\kernelapp.py\", line 486, in start\n    self.io_loop.start()\n  File \"C:\\Users\\user\\Anaconda\\lib\\site-packages\\tornado\\platform\\asyncio.py\", line 127, in start\n    self.asyncio_loop.run_forever()\n  File \"C:\\Users\\user\\Anaconda\\lib\\asyncio\\base_events.py\", line 422, in run_forever\n    self._run_once()\n  File \"C:\\Users\\user\\Anaconda\\lib\\asyncio\\base_events.py\", line 1432, in _run_once\n    handle._run()\n  File \"C:\\Users\\user\\Anaconda\\lib\\asyncio\\events.py\", line 145, in _run\n    self._callback(*self._args)\n  File \"C:\\Users\\user\\Anaconda\\lib\\site-packages\\tornado\\ioloop.py\", line 759, in _run_callback\n    ret = callback()\n  File \"C:\\Users\\user\\Anaconda\\lib\\site-packages\\tornado\\stack_context.py\", line 276, in null_wrapper\n    return fn(*args, **kwargs)\n  File \"C:\\Users\\user\\Anaconda\\lib\\site-packages\\zmq\\eventloop\\zmqstream.py\", line 536, in <lambda>\n    self.io_loop.add_callback(lambda : self._handle_events(self.socket, 0))\n  File \"C:\\Users\\user\\Anaconda\\lib\\site-packages\\zmq\\eventloop\\zmqstream.py\", line 450, in _handle_events\n    self._handle_recv()\n  File \"C:\\Users\\user\\Anaconda\\lib\\site-packages\\zmq\\eventloop\\zmqstream.py\", line 480, in _handle_recv\n    self._run_callback(callback, msg)\n  File \"C:\\Users\\user\\Anaconda\\lib\\site-packages\\zmq\\eventloop\\zmqstream.py\", line 432, in _run_callback\n    callback(*args, **kwargs)\n  File \"C:\\Users\\user\\Anaconda\\lib\\site-packages\\tornado\\stack_context.py\", line 276, in null_wrapper\n    return fn(*args, **kwargs)\n  File \"C:\\Users\\user\\Anaconda\\lib\\site-packages\\ipykernel\\kernelbase.py\", line 283, in dispatcher\n    return self.dispatch_shell(stream, msg)\n  File \"C:\\Users\\user\\Anaconda\\lib\\site-packages\\ipykernel\\kernelbase.py\", line 233, in dispatch_shell\n    handler(stream, idents, msg)\n  File \"C:\\Users\\user\\Anaconda\\lib\\site-packages\\ipykernel\\kernelbase.py\", line 399, in execute_request\n    user_expressions, allow_stdin)\n  File \"C:\\Users\\user\\Anaconda\\lib\\site-packages\\ipykernel\\ipkernel.py\", line 208, in do_execute\n    res = shell.run_cell(code, store_history=store_history, silent=silent)\n  File \"C:\\Users\\user\\Anaconda\\lib\\site-packages\\ipykernel\\zmqshell.py\", line 537, in run_cell\n    return super(ZMQInteractiveShell, self).run_cell(*args, **kwargs)\n  File \"C:\\Users\\user\\Anaconda\\lib\\site-packages\\IPython\\core\\interactiveshell.py\", line 2662, in run_cell\n    raw_cell, store_history, silent, shell_futures)\n  File \"C:\\Users\\user\\Anaconda\\lib\\site-packages\\IPython\\core\\interactiveshell.py\", line 2785, in _run_cell\n    interactivity=interactivity, compiler=compiler, result=result)\n  File \"C:\\Users\\user\\Anaconda\\lib\\site-packages\\IPython\\core\\interactiveshell.py\", line 2903, in run_ast_nodes\n    if self.run_code(code, result):\n  File \"C:\\Users\\user\\Anaconda\\lib\\site-packages\\IPython\\core\\interactiveshell.py\", line 2963, in run_code\n    exec(code_obj, self.user_global_ns, self.user_ns)\n  File \"<ipython-input-4-bbea9003cc0f>\", line 5, in <module>\n    t= tf.placeholder(tf.float32, shape=[None, 1],name=\"t\")\n  File \"C:\\Users\\user\\Anaconda\\lib\\site-packages\\tensorflow\\python\\ops\\array_ops.py\", line 1734, in placeholder\n    return gen_array_ops.placeholder(dtype=dtype, shape=shape, name=name)\n  File \"C:\\Users\\user\\Anaconda\\lib\\site-packages\\tensorflow\\python\\ops\\gen_array_ops.py\", line 4923, in placeholder\n    \"Placeholder\", dtype=dtype, shape=shape, name=name)\n  File \"C:\\Users\\user\\Anaconda\\lib\\site-packages\\tensorflow\\python\\framework\\op_def_library.py\", line 787, in _apply_op_helper\n    op_def=op_def)\n  File \"C:\\Users\\user\\Anaconda\\lib\\site-packages\\tensorflow\\python\\framework\\ops.py\", line 3414, in create_op\n    op_def=op_def)\n  File \"C:\\Users\\user\\Anaconda\\lib\\site-packages\\tensorflow\\python\\framework\\ops.py\", line 1740, in __init__\n    self._traceback = self._graph._extract_stack()  # pylint: disable=protected-access\n\nInvalidArgumentError (see above for traceback): You must feed a value for placeholder tensor 't_1' with dtype float and shape [?,1]\n\t [[Node: t_1 = Placeholder[dtype=DT_FLOAT, shape=[?,1], _device=\"/job:localhost/replica:0/task:0/device:CPU:0\"]()]]\n"
     ]
    }
   ],
   "source": [
    "with tf.Session() as sess:\n",
    "    merged_summary = tf.summary.merge_all()\n",
    "    writer = tf.summary.FileWriter(\"./logs\")\n",
    "    writer.add_graph(sess.graph)\n",
    "    \n",
    "    init=tf.global_variables_initializer()\n",
    "    sess.run(init)\n",
    "\n",
    "    for step in range(10000):   \n",
    "        for i in range(n_batches):\n",
    "            start = i*batch_size\n",
    "            end = start + batch_size\n",
    " \n",
    "            X_, Y_ = shuffle(X, Y)\n",
    "                                            \n",
    "            if step % 1000 == 0:\n",
    "                summary, _= sess.run([merged_summary,train_step],feed_dict={x: X_[start:end],t: Y_[start:end]})\n",
    "                writer.add_summary(summary,step)\n",
    "                                \n",
    "            \n",
    "                print(step,sess.run(cross_entropy, feed_dict={x: X_[start:end],t: Y_[start:end]}))\n",
    "                print(step,sess.run(y, feed_dict={x: X_[start:end]}))\n",
    "        "
   ]
  },
  {
   "cell_type": "markdown",
   "metadata": {},
   "source": [
    "## Example 3"
   ]
  },
  {
   "cell_type": "code",
   "execution_count": 18,
   "metadata": {},
   "outputs": [],
   "source": [
    "from sklearn import datasets\n",
    "\n",
    "N = 300\n",
    "X, y =datasets.make_moons(N, noise=0.3)\n",
    "\n",
    "#plt.plot(X, \"o\", col=2)\n",
    "c1=np.zeros([100])+1\n",
    "c2=np.zeros([100])+2\n",
    "c3=np.zeros([100])+3\n",
    "c=np.concatenate([c1, c2, c3])\n"
   ]
  },
  {
   "cell_type": "code",
   "execution_count": 19,
   "metadata": {},
   "outputs": [
    {
     "data": {
      "image/png": "[encoded data removed]",
      "text/plain": [
       "<Figure size 432x288 with 1 Axes>"
      ]
     },
     "metadata": {},
     "output_type": "display_data"
    }
   ],
   "source": [
    "with tf.name_scope(\"plot\"):\n",
    "    plt.scatter(X[:,1],X[:,0],  alpha=0.3, cmap=\"viridis\", c =y)"
   ]
  },
  {
   "cell_type": "code",
   "execution_count": 42,
   "metadata": {},
   "outputs": [
    {
     "name": "stderr",
     "output_type": "stream",
     "text": [
      "C:\\Users\\user\\Anaconda\\lib\\site-packages\\sklearn\\model_selection\\_split.py:2026: FutureWarning: From version 0.21, test_size will always complement train_size unless both are specified.\n",
      "  FutureWarning)\n"
     ]
    }
   ],
   "source": [
    "from sklearn.model_selection import train_test_split\n",
    "from tensorboard import summary\n",
    "from tensorboard.plugins.custom_scalar import layout_pb2\n",
    "\n",
    "Y=y.reshape(N,1)\n",
    "X_train, X_test, Y_train, Y_test = train_test_split(X, Y, train_size=0.8)"
   ]
  },
  {
   "cell_type": "code",
   "execution_count": 44,
   "metadata": {},
   "outputs": [],
   "source": [
    "num_hidden = 3\n",
    "\n",
    "x = tf.placeholder(tf.float32, shape=[None, 2])\n",
    "t = tf.placeholder(tf.float32, shape=[None, 1])"
   ]
  },
  {
   "cell_type": "code",
   "execution_count": 45,
   "metadata": {},
   "outputs": [],
   "source": [
    "with tf.name_scope(\"layer1\"):\n",
    "    W1 = tf.Variable(tf.truncated_normal([2, num_hidden]))\n",
    "    b1 = tf.Variable(tf.zeros([num_hidden]))\n",
    "    z1 = tf.nn.sigmoid(tf.matmul(x, W1) + b1)\n"
   ]
  },
  {
   "cell_type": "code",
   "execution_count": 46,
   "metadata": {},
   "outputs": [],
   "source": [
    "with tf.name_scope(\"layer2\"):\n",
    "    W2 = tf.Variable(tf.truncated_normal([num_hidden, 1]))\n",
    "    b2 = tf.Variable(tf.zeros([1]))\n",
    "    z2 = tf.nn.sigmoid(tf.matmul(z1, W2) + b2)\n"
   ]
  },
  {
   "cell_type": "code",
   "execution_count": 47,
   "metadata": {},
   "outputs": [],
   "source": [
    "with tf.name_scope(\"cross_entropy\"):\n",
    "    cross_entropy = -tf.reduce_sum(t*tf.log(z2) + (1-t)*tf.log(1-z2))\n",
    "    entropy=tf.summary.scalar(\"cross_entropy\",cross_entropy)"
   ]
  },
  {
   "cell_type": "code",
   "execution_count": 48,
   "metadata": {},
   "outputs": [],
   "source": [
    "with tf.name_scope(\"train_step\"):\n",
    "    train_step = tf.train.GradientDescentOptimizer(0.05).minimize(cross_entropy)\n"
   ]
  },
  {
   "cell_type": "code",
   "execution_count": 49,
   "metadata": {},
   "outputs": [],
   "source": [
    "with tf.name_scope(\"correct_prediction\"):    \n",
    "    correct_prediction = tf.equal(tf.to_float(tf.greater(z2, 0.5)), t)\n"
   ]
  },
  {
   "cell_type": "code",
   "execution_count": 50,
   "metadata": {},
   "outputs": [],
   "source": [
    "with tf.name_scope(\"my_prediction\"):\n",
    "    my_prediction = tf.cast(tf.greater(z2, 0.5)  , tf.float32)\n"
   ]
  },
  {
   "cell_type": "code",
   "execution_count": 51,
   "metadata": {},
   "outputs": [],
   "source": [
    "with tf.name_scope(\"accuracy\"):\n",
    "    accuracy = tf.reduce_mean(tf.cast(correct_prediction, tf.float32))\n",
    "    accu=tf.summary.scalar(\"accuracy\",accuracy)"
   ]
  },
  {
   "cell_type": "code",
   "execution_count": 52,
   "metadata": {},
   "outputs": [],
   "source": [
    "batch_size = 20\n",
    "n_batches = N//batch_size"
   ]
  },
  {
   "cell_type": "code",
   "execution_count": 53,
   "metadata": {},
   "outputs": [
    {
     "name": "stdout",
     "output_type": "stream",
     "text": [
      "0 14.097724\n",
      "0 0.5\n",
      "0 14.891857\n",
      "0 0.4\n",
      "0 16.142838\n",
      "0 0.2\n",
      "0 15.609451\n",
      "0 0.35\n",
      "0 14.493725\n",
      "0 0.4\n",
      "0 16.634155\n",
      "0 0.1\n",
      "0 15.549526\n",
      "0 0.3\n",
      "0 13.335106\n",
      "0 0.6\n",
      "0 16.028704\n",
      "0 0.25\n",
      "0 15.471279\n",
      "0 0.35\n",
      "0 15.16475\n",
      "0 0.35\n",
      "0 15.473724\n",
      "0 0.3\n",
      "0 -0.0\n",
      "0 nan\n",
      "0 -0.0\n",
      "0 nan\n",
      "0 -0.0\n",
      "0 nan\n",
      "1000 15.660899\n",
      "1000 0.3\n",
      "1000 13.889688\n",
      "1000 0.5\n",
      "1000 15.271379\n",
      "1000 0.4\n",
      "1000 14.274378\n",
      "1000 0.5\n",
      "1000 14.016932\n",
      "1000 0.55\n",
      "1000 15.500781\n",
      "1000 0.3\n",
      "1000 14.626275\n",
      "1000 0.45\n",
      "1000 13.311565\n",
      "1000 0.6\n",
      "1000 14.452081\n",
      "1000 0.45\n",
      "1000 14.439106\n",
      "1000 0.55\n",
      "1000 15.42325\n",
      "1000 0.3\n",
      "1000 14.152069\n",
      "1000 0.5\n",
      "1000 -0.0\n",
      "1000 nan\n",
      "1000 -0.0\n",
      "1000 nan\n",
      "1000 -0.0\n",
      "1000 nan\n",
      "2000 14.464895\n",
      "2000 0.4\n",
      "2000 14.626341\n",
      "2000 0.4\n",
      "2000 15.538666\n",
      "2000 0.35\n",
      "2000 14.297205\n",
      "2000 0.5\n",
      "2000 13.874154\n",
      "2000 0.6\n",
      "2000 15.232836\n",
      "2000 0.35\n",
      "2000 14.018822\n",
      "2000 0.5\n",
      "2000 14.527174\n",
      "2000 0.45\n",
      "2000 14.979687\n",
      "2000 0.3\n",
      "2000 15.00481\n",
      "2000 0.4\n",
      "2000 13.644186\n",
      "2000 0.5\n",
      "2000 15.394483\n",
      "2000 0.4\n",
      "2000 -0.0\n",
      "2000 nan\n",
      "2000 -0.0\n",
      "2000 nan\n",
      "2000 -0.0\n",
      "2000 nan\n",
      "3000 15.239134\n",
      "3000 0.4\n",
      "3000 13.644025\n",
      "3000 0.55\n",
      "3000 15.30797\n",
      "3000 0.4\n",
      "3000 15.244144\n",
      "3000 0.35\n",
      "3000 15.505469\n",
      "3000 0.3\n",
      "3000 13.327785\n",
      "3000 0.65\n",
      "3000 13.993275\n",
      "3000 0.5\n",
      "3000 15.576126\n",
      "3000 0.35\n",
      "3000 14.843541\n",
      "3000 0.4\n",
      "3000 14.936769\n",
      "3000 0.4\n",
      "3000 15.758984\n",
      "3000 0.25\n",
      "3000 14.439098\n",
      "3000 0.45\n",
      "3000 -0.0\n",
      "3000 nan\n",
      "3000 -0.0\n",
      "3000 nan\n",
      "3000 -0.0\n",
      "3000 nan\n",
      "4000 13.128807\n",
      "4000 0.6\n",
      "4000 15.323393\n",
      "4000 0.35\n",
      "4000 14.54649\n",
      "4000 0.45\n",
      "4000 14.136793\n",
      "4000 0.45\n",
      "4000 14.643008\n",
      "4000 0.5\n",
      "4000 14.524081\n",
      "4000 0.5\n",
      "4000 15.283953\n",
      "4000 0.4\n",
      "4000 15.376196\n",
      "4000 0.25\n",
      "4000 13.817639\n",
      "4000 0.5\n",
      "4000 15.305004\n",
      "4000 0.35\n",
      "4000 14.220701\n",
      "4000 0.5\n",
      "4000 14.227381\n",
      "4000 0.45\n",
      "4000 -0.0\n",
      "4000 nan\n",
      "4000 -0.0\n",
      "4000 nan\n",
      "4000 -0.0\n",
      "4000 nan\n",
      "5000 14.480253\n",
      "5000 0.45\n",
      "5000 14.99025\n",
      "5000 0.4\n",
      "5000 15.163036\n",
      "5000 0.35\n",
      "5000 15.235439\n",
      "5000 0.3\n",
      "5000 14.455391\n",
      "5000 0.5\n",
      "5000 16.38094\n",
      "5000 0.15\n",
      "5000 14.162682\n",
      "5000 0.55\n",
      "5000 14.654278\n",
      "5000 0.4\n",
      "5000 15.548318\n",
      "5000 0.3\n",
      "5000 14.913828\n",
      "5000 0.45\n",
      "5000 14.954244\n",
      "5000 0.35\n",
      "5000 14.606892\n",
      "5000 0.45\n",
      "5000 -0.0\n",
      "5000 nan\n",
      "5000 -0.0\n",
      "5000 nan\n",
      "5000 -0.0\n",
      "5000 nan\n",
      "6000 15.659483\n",
      "6000 0.3\n",
      "6000 15.050079\n",
      "6000 0.35\n",
      "6000 13.826683\n",
      "6000 0.6\n",
      "6000 14.757518\n",
      "6000 0.45\n",
      "6000 14.250048\n",
      "6000 0.45\n",
      "6000 13.682711\n",
      "6000 0.6\n",
      "6000 14.176704\n",
      "6000 0.5\n",
      "6000 13.993372\n",
      "6000 0.5\n",
      "6000 15.708504\n",
      "6000 0.25\n",
      "6000 13.287167\n",
      "6000 0.7\n",
      "6000 14.563781\n",
      "6000 0.4\n",
      "6000 13.680576\n",
      "6000 0.55\n",
      "6000 -0.0\n",
      "6000 nan\n",
      "6000 -0.0\n",
      "6000 nan\n",
      "6000 -0.0\n",
      "6000 nan\n",
      "7000 15.125829\n",
      "7000 0.4\n",
      "7000 15.039864\n",
      "7000 0.4\n",
      "7000 14.96911\n",
      "7000 0.4\n",
      "7000 14.299874\n",
      "7000 0.55\n",
      "7000 14.841063\n",
      "7000 0.4\n",
      "7000 14.308569\n",
      "7000 0.5\n",
      "7000 13.500797\n",
      "7000 0.55\n",
      "7000 14.325932\n",
      "7000 0.55\n",
      "7000 14.331594\n",
      "7000 0.45\n",
      "7000 15.538501\n",
      "7000 0.4\n",
      "7000 13.514493\n",
      "7000 0.65\n",
      "7000 13.777943\n",
      "7000 0.55\n",
      "7000 -0.0\n",
      "7000 nan\n",
      "7000 -0.0\n",
      "7000 nan\n",
      "7000 -0.0\n",
      "7000 nan\n",
      "8000 13.480832\n",
      "8000 0.55\n",
      "8000 12.506925\n",
      "8000 0.75\n",
      "8000 14.488696\n",
      "8000 0.4\n",
      "8000 15.512884\n",
      "8000 0.35\n",
      "8000 14.289147\n",
      "8000 0.55\n",
      "8000 14.564423\n",
      "8000 0.4\n",
      "8000 13.195185\n",
      "8000 0.65\n",
      "8000 14.271599\n",
      "8000 0.6\n",
      "8000 15.523771\n",
      "8000 0.3\n",
      "8000 15.770952\n",
      "8000 0.25\n",
      "8000 14.302671\n",
      "8000 0.55\n",
      "8000 14.546013\n",
      "8000 0.5\n",
      "8000 -0.0\n",
      "8000 nan\n",
      "8000 -0.0\n",
      "8000 nan\n",
      "8000 -0.0\n",
      "8000 nan\n",
      "9000 14.900696\n",
      "9000 0.4\n",
      "9000 13.989074\n",
      "9000 0.55\n",
      "9000 14.897982\n",
      "9000 0.4\n",
      "9000 14.539376\n",
      "9000 0.45\n",
      "9000 14.604982\n",
      "9000 0.45\n",
      "9000 15.354257\n",
      "9000 0.3\n",
      "9000 13.885311\n",
      "9000 0.55\n",
      "9000 14.538704\n",
      "9000 0.45\n",
      "9000 14.743395\n",
      "9000 0.35\n",
      "9000 13.636035\n",
      "9000 0.55\n",
      "9000 13.94728\n",
      "9000 0.55\n",
      "9000 14.580512\n",
      "9000 0.45\n",
      "9000 -0.0\n",
      "9000 nan\n",
      "9000 -0.0\n",
      "9000 nan\n",
      "9000 -0.0\n",
      "9000 nan\n"
     ]
    }
   ],
   "source": [
    "with tf.Session() as sess:\n",
    "    merged_summary = tf.summary.merge_all()\n",
    "    writer = tf.summary.FileWriter(\"./logs\")\n",
    "    writer.add_graph(sess.graph)\n",
    "\n",
    "    init = tf.global_variables_initializer()\n",
    "    sess.run(init)\n",
    "\n",
    "    for step in range(10000):    \n",
    "        for i in range(n_batches):\n",
    "            start = i * batch_size\n",
    "            end = start + batch_size\n",
    "            \n",
    "            X_, Y_ = shuffle(X_train, Y_train)\n",
    "        \n",
    "            if step % 1000 ==0 :\n",
    "        \n",
    "                print(step,sess.run(cross_entropy, feed_dict={\n",
    "                    x: X_[start:end],\n",
    "                    t: Y_[start:end],\n",
    "                }))\n",
    "                print(step,sess.run(accuracy, feed_dict={\n",
    "                    x: X_[start:end],\n",
    "                    t: Y_[start:end],\n",
    "                }))"
   ]
  },
  {
   "cell_type": "code",
   "execution_count": null,
   "metadata": {},
   "outputs": [],
   "source": []
  },
  {
   "cell_type": "code",
   "execution_count": null,
   "metadata": {},
   "outputs": [],
   "source": [
    " "
   ]
  },
  {
   "cell_type": "code",
   "execution_count": null,
   "metadata": {},
   "outputs": [],
   "source": []
  },
  {
   "cell_type": "code",
   "execution_count": null,
   "metadata": {},
   "outputs": [],
   "source": []
  },
  {
   "cell_type": "code",
   "execution_count": null,
   "metadata": {},
   "outputs": [],
   "source": []
  }
 ],
 "metadata": {
  "kernelspec": {
   "display_name": "Python 3",
   "language": "python",
   "name": "python3"
  },
  "language_info": {
   "codemirror_mode": {
    "name": "ipython",
    "version": 3
   },
   "file_extension": ".py",
   "mimetype": "text/x-python",
   "name": "python",
   "nbconvert_exporter": "python",
   "pygments_lexer": "ipython3",
   "version": "3.6.5"
  }
 },
 "nbformat": 4,
 "nbformat_minor": 2
}
